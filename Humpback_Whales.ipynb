{
 "cells": [
  {
   "cell_type": "markdown",
   "metadata": {
    "collapsed": true
   },
   "source": [
    "# Humpback Whale Image Classifier Kaggle Competition"
   ]
  },
  {
   "cell_type": "code",
   "execution_count": 1,
   "metadata": {
    "collapsed": true
   },
   "outputs": [],
   "source": [
    "# Reload modules before executing user code\n",
    "%reload_ext autoreload\n",
    "# Reload all modules (except those excluded by %aimport)\n",
    "%autoreload 2\n",
    "# Show plots within this notebook\n",
    "%matplotlib inline"
   ]
  },
  {
   "cell_type": "markdown",
   "metadata": {
    "collapsed": true
   },
   "source": [
    "## Dataset Exploration\n",
    "\n",
    "(This section of our analysis borrows heavily on the work of others, as we ourselves are learning. In particular, we heavily borrow from Lex Toumbourou's kernel \"Humpback Whale ID: Data and Aug Exploration\" found __[here](https://www.kaggle.com/lextoumbourou/humpback-whale-id-data-and-aug-exploration/notebook)__.)\n",
    "\n",
    "The first step with any kind of analysis is to understand your dataset. Given the question you wish to answer with your data, you need to make sure you can actually take the steps required to arrive at the answer. In this Kaggle competition, we are given a dataset of 9,850 images containing humpback whales and are asked to build a classifier to identify which whale an image contains (or identify new whales). These images in the training set come with labels identifying the whales in the images. Simple, right?\n",
    "\n",
    "### Number of whales in the dataset\n",
    "\n",
    "Well, not necessarily. You might think that with a roughly 10K image dataset you'd have plenty of images for each whale. But the first thing to check is just how many whales we are being asked to differentiate between. There's a big difference between 30 whales and 3000 whales. So let's check how many whales are in our dataset by loading in the training dataset labels and check the number of individual labels."
   ]
  },
  {
   "cell_type": "code",
   "execution_count": 1,
   "metadata": {
    "collapsed": false
   },
   "outputs": [],
   "source": [
    "# Set the path where our data lives:\n",
    "PATH = 'download/'\n",
    "train_csv = '{}train.csv'.format(PATH)\n",
    "\n",
    "import pandas as pd\n",
    "import numpy as np\n",
    "\n",
    "# Read in the training set metadata:\n",
    "train_df = pd.read_csv(train_csv, na_filter=False)"
   ]
  },
  {
   "cell_type": "markdown",
   "metadata": {},
   "source": [
    "Now that we have our training set metadata we can examine the labels we are working with: what they look like, how many there are, how are they distributed, etc. Let's first look at what the labels look like."
   ]
  },
  {
   "cell_type": "code",
   "execution_count": 6,
   "metadata": {
    "collapsed": false
   },
   "outputs": [
    {
     "data": {
      "text/plain": [
       "0     w_e15442c\n",
       "1     w_1287fbc\n",
       "2     w_da2efe0\n",
       "3     w_19e5482\n",
       "4     w_f22f3e3\n",
       "5     w_8b1ca89\n",
       "6     w_eaad6a8\n",
       "7     new_whale\n",
       "8     w_3d0bc7a\n",
       "9     w_50db782\n",
       "10    w_2863d51\n",
       "11    w_6dc7db6\n",
       "12    w_968f2ca\n",
       "13    w_fd1cb9d\n",
       "14    w_60759c2\n",
       "15    w_ab6bb0a\n",
       "16    w_79b42cd\n",
       "17    w_c9ba30c\n",
       "18    w_e6ec8ee\n",
       "19    new_whale\n",
       "Name: Id, dtype: object"
      ]
     },
     "execution_count": 6,
     "metadata": {},
     "output_type": "execute_result"
    }
   ],
   "source": [
    "# The Id column of our metadata contains the labels:\n",
    "train_df.Id.head(20)"
   ]
  },
  {
   "cell_type": "markdown",
   "metadata": {},
   "source": [
    "Ok, so let's notice something here. We looked at the first 20 labels, and they're all different, except for 2 whales that are considered \"new\" and therefore not associated with the individually tagged whales (tagged by whoever did the labeling). So how many labels are there?"
   ]
  },
  {
   "cell_type": "code",
   "execution_count": 7,
   "metadata": {
    "collapsed": false
   },
   "outputs": [
    {
     "name": "stdout",
     "output_type": "stream",
     "text": [
      "4251\n"
     ]
    }
   ],
   "source": [
    "# We can use numpy's unique function to easily get at this question:\n",
    "print(len(np.unique(train_df.Id)))"
   ]
  },
  {
   "cell_type": "markdown",
   "metadata": {},
   "source": [
    "Holy moly. So there are 4,251 different whale labels (4,250 total whales if you don't count \"new_whale\")! Naïvely you might think that means there'll be 9850/4251 = 2.3 images per whale. But is that really the distribution?"
   ]
  },
  {
   "cell_type": "code",
   "execution_count": 18,
   "metadata": {
    "collapsed": false
   },
   "outputs": [
    {
     "name": "stdout",
     "output_type": "stream",
     "text": [
      "[(1, 2220), (2, 1034), (3, 492), (4, 192), (5, 102), (6, 61), (7, 40), (8, 23), (9, 21), (10, 9), (11, 7), (12, 7), (13, 9), (14, 5), (15, 4), (16, 5), (17, 4), (18, 2), (19, 2), (20, 1), (21, 3), (22, 3), (23, 1), (26, 1), (27, 1), (34, 1), (810, 1)]\n"
     ]
    }
   ],
   "source": [
    "from collections import Counter\n",
    "whale_dist = Counter(train_df['Id'].value_counts().values)\n",
    "print(sorted(whale_dist.items()))"
   ]
  },
  {
   "cell_type": "code",
   "execution_count": 16,
   "metadata": {
    "collapsed": false
   },
   "outputs": [
    {
     "data": {
      "image/png": "[encoded data removed]",
      "text/plain": [
       "<matplotlib.figure.Figure at 0x11175bd30>"
      ]
     },
     "metadata": {},
     "output_type": "display_data"
    }
   ],
   "source": [
    "import matplotlib.pyplot as plt\n",
    "\n",
    "plt.figure(1, figsize=(10,7))\n",
    "plt.bar(range(len(whale_dist)), list(whale_dist.values()), align='center')\n",
    "plt.xticks(range(len(whale_dist)), list(whale_dist.keys()))\n",
    "plt.title('Distribution of whale labels in the training set')\n",
    "plt.xlabel('Number of images tagged')\n",
    "plt.ylabel('Number of labels')\n",
    "plt.show()"
   ]
  },
  {
   "cell_type": "markdown",
   "metadata": {},
   "source": [
    "This plot is the visual representation of the Counter object printed out above it. This is very interesting -- it says that there are 2,220 whales that have just 1 image containing its tag; 1,034 whales have 2 images containing its tag; and so on all the way down to one tag containing 810 images! Which one is it? You might have guessed it by now but let's be sure:"
   ]
  },
  {
   "cell_type": "code",
   "execution_count": 19,
   "metadata": {
    "collapsed": false
   },
   "outputs": [
    {
     "name": "stdout",
     "output_type": "stream",
     "text": [
      "new_whale    810\n",
      "w_1287fbc     34\n",
      "w_98baff9     27\n",
      "w_7554f44     26\n",
      "w_1eafe46     23\n",
      "w_693c9ee     22\n",
      "w_fd1cb9d     22\n",
      "w_ab4cae2     22\n",
      "w_987a36f     21\n",
      "w_73d5489     21\n",
      "w_43be268     21\n",
      "w_f19faeb     20\n",
      "w_95874a5     19\n",
      "w_9b401eb     19\n",
      "w_c0d494d     18\n",
      "...\n",
      "w_a34c992    1\n",
      "w_136653f    1\n",
      "w_8ae97a4    1\n",
      "w_89ee7c1    1\n",
      "w_b283b00    1\n",
      "w_f9d27ad    1\n",
      "w_80bae3a    1\n",
      "w_5bc7e7f    1\n",
      "w_8e93d0e    1\n",
      "w_874cf52    1\n",
      "w_55c9a3b    1\n",
      "w_c241e72    1\n",
      "w_a190aff    1\n",
      "w_6b7d5ad    1\n",
      "w_c102ec3    1\n",
      "Length: 4251, dtype: int64\n"
     ]
    }
   ],
   "source": [
    "print(train_df['Id'].value_counts())"
   ]
  },
  {
   "cell_type": "markdown",
   "metadata": {},
   "source": [
    "As expected, new_whale is the category with the overwhelming majority of tags. The next most common whale is w_1287fbc with 34 total images. So we have a big problem...if we want to train a classifier to identify each of these whales, we'll need a lot more images for each whale! Even 34 is a low number, so we are going to want to augment our data in order to fill this out more.\n",
    "\n",
    "Later, we'll discuss how we augment this dataset. For now, let's continue our exploration of the training data."
   ]
  },
  {
   "cell_type": "code",
   "execution_count": null,
   "metadata": {
    "collapsed": true
   },
   "outputs": [],
   "source": []
  }
 ],
 "metadata": {
  "kernelspec": {
   "display_name": "Python 3",
   "language": "python",
   "name": "python3"
  },
  "language_info": {
   "codemirror_mode": {
    "name": "ipython",
    "version": 3
   },
   "file_extension": ".py",
   "mimetype": "text/x-python",
   "name": "python",
   "nbconvert_exporter": "python",
   "pygments_lexer": "ipython3",
   "version": "3.4.5"
  }
 },
 "nbformat": 4,
 "nbformat_minor": 2
}
