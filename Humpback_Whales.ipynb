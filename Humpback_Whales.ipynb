{
 "cells": [
  {
   "cell_type": "markdown",
   "metadata": {
    "collapsed": true
   },
   "source": [
    "# Humpback Whale Image Classifier Kaggle Competition"
   ]
  },
  {
   "cell_type": "code",
   "execution_count": 1,
   "metadata": {
    "collapsed": true
   },
   "outputs": [],
   "source": [
    "# Reload modules before executing user code\n",
    "%reload_ext autoreload\n",
    "# Reload all modules (except those excluded by %aimport)\n",
    "%autoreload 2\n",
    "# Show plots within this notebook\n",
    "%matplotlib inline"
   ]
  },
  {
   "cell_type": "markdown",
   "metadata": {
    "collapsed": true
   },
   "source": [
    "## Dataset Exploration\n",
    "\n",
    "(This section of our analysis borrows heavily on the work of others, as we ourselves are learning. In particular, we heavily borrow from Lex Toumbourou's kernel \"Humpback Whale ID: Data and Aug Exploration\" found __[here](https://www.kaggle.com/lextoumbourou/humpback-whale-id-data-and-aug-exploration/notebook)__.)\n",
    "\n",
    "The first step with any kind of analysis is to understand your dataset. Given the question you wish to answer with your data, you need to make sure you can actually take the steps required to arrive at the answer. In this Kaggle competition, we are given a dataset of 9,850 images containing humpback whales and are asked to build a classifier to identify which whale an image contains (or identify new whales). These images in the training set come with labels identifying the whales in the images. Simple, right?\n",
    "\n",
    "### Number of whales in the dataset\n",
    "\n",
    "Well, not necessarily. You might think that with a roughly 10K image dataset you'd have plenty of images for each whale. But the first thing to check is just how many whales we are being asked to differentiate between. There's a big difference between 30 whales and 3000 whales. So let's check how many whales are in our dataset by loading in the training dataset labels and check the number of individual labels."
   ]
  },
  {
   "cell_type": "code",
   "execution_count": 2,
   "metadata": {
    "collapsed": false
   },
   "outputs": [],
   "source": [
    "# Set the path where our data lives:\n",
    "PATH = 'download/'\n",
    "train_csv = '{}train.csv'.format(PATH)\n",
    "\n",
    "import pandas as pd\n",
    "import numpy as np\n",
    "\n",
    "# Read in the training set metadata:\n",
    "train_df = pd.read_csv(train_csv, na_filter=False)"
   ]
  },
  {
   "cell_type": "markdown",
   "metadata": {},
   "source": [
    "Now that we have our training set metadata we can examine the labels we are working with: what they look like, how many there are, how are they distributed, etc. Let's first look at what the labels look like."
   ]
  },
  {
   "cell_type": "code",
   "execution_count": 3,
   "metadata": {
    "collapsed": false
   },
   "outputs": [
    {
     "data": {
      "text/plain": [
       "0     w_e15442c\n",
       "1     w_1287fbc\n",
       "2     w_da2efe0\n",
       "3     w_19e5482\n",
       "4     w_f22f3e3\n",
       "5     w_8b1ca89\n",
       "6     w_eaad6a8\n",
       "7     new_whale\n",
       "8     w_3d0bc7a\n",
       "9     w_50db782\n",
       "10    w_2863d51\n",
       "11    w_6dc7db6\n",
       "12    w_968f2ca\n",
       "13    w_fd1cb9d\n",
       "14    w_60759c2\n",
       "15    w_ab6bb0a\n",
       "16    w_79b42cd\n",
       "17    w_c9ba30c\n",
       "18    w_e6ec8ee\n",
       "19    new_whale\n",
       "Name: Id, dtype: object"
      ]
     },
     "execution_count": 3,
     "metadata": {},
     "output_type": "execute_result"
    }
   ],
   "source": [
    "# The Id column of our metadata contains the labels:\n",
    "train_df.Id.head(20)"
   ]
  },
  {
   "cell_type": "markdown",
   "metadata": {},
   "source": [
    "Ok, so let's notice something here. We looked at the first 20 labels, and they're all different, except for 2 whales that are considered \"new\" and therefore not associated with the individually tagged whales (tagged by whoever did the labeling). So how many labels are there?"
   ]
  },
  {
   "cell_type": "code",
   "execution_count": 4,
   "metadata": {
    "collapsed": false
   },
   "outputs": [
    {
     "name": "stdout",
     "output_type": "stream",
     "text": [
      "4251\n"
     ]
    }
   ],
   "source": [
    "# We can use numpy's unique function to easily get at this question:\n",
    "print(len(np.unique(train_df.Id)))"
   ]
  },
  {
   "cell_type": "markdown",
   "metadata": {},
   "source": [
    "Holy moly. So there are 4,251 different whale labels (4,250 total whales if you don't count \"new_whale\")! Naïvely you might think that means there'll be 9850/4251 = 2.3 images per whale. But is that really the distribution?"
   ]
  },
  {
   "cell_type": "code",
   "execution_count": 5,
   "metadata": {
    "collapsed": false
   },
   "outputs": [
    {
     "name": "stdout",
     "output_type": "stream",
     "text": [
      "[(1, 2220), (2, 1034), (3, 492), (4, 192), (5, 102), (6, 61), (7, 40), (8, 23), (9, 21), (10, 9), (11, 7), (12, 7), (13, 9), (14, 5), (15, 4), (16, 5), (17, 4), (18, 2), (19, 2), (20, 1), (21, 3), (22, 3), (23, 1), (26, 1), (27, 1), (34, 1), (810, 1)]\n"
     ]
    }
   ],
   "source": [
    "from collections import Counter\n",
    "whale_dist = Counter(train_df['Id'].value_counts().values)\n",
    "print(sorted(whale_dist.items()))"
   ]
  },
  {
   "cell_type": "code",
   "execution_count": 27,
   "metadata": {
    "collapsed": false
   },
   "outputs": [
    {
     "data": {
      "text/plain": [
       "Text(0,0.5,'Number of labels, log scale')"
      ]
     },
     "execution_count": 27,
     "metadata": {},
     "output_type": "execute_result"
    },
    {
     "data": {
      "image/png": "[encoded data removed]",
      "text/plain": [
       "<matplotlib.figure.Figure at 0x117a6b240>"
      ]
     },
     "metadata": {},
     "output_type": "display_data"
    }
   ],
   "source": [
    "import matplotlib.pyplot as plt\n",
    "\n",
    "N = len(whale_dist)\n",
    "vals = list(whale_dist.values())\n",
    "keys = list(whale_dist.keys())\n",
    "\n",
    "# Plot main bar graph:\n",
    "fig, ax1 = plt.subplots(figsize=(10,7))\n",
    "plt.title('Distribution of whale labels in the training set', fontsize=20)\n",
    "ax1.bar(range(N), vals, align='center')\n",
    "ax1.set_xticks(range(N))\n",
    "ax1.set_xticklabels(keys)\n",
    "ax1.set_xlabel('Number of images tagged', fontsize=15)\n",
    "ax1.set_ylabel('Number of labels', fontsize=15)\n",
    "\n",
    "# Plot the inset:\n",
    "left, bottom, width, height = [0.32, 0.4, 0.56, 0.4]\n",
    "ax2 = fig.add_axes([left, bottom, width, height])\n",
    "ax2.bar(range(N), vals, align='center')\n",
    "ax2.set_xticks(range(N))\n",
    "ax2.set_xticklabels(keys)\n",
    "ax2.set_yscale('log')\n",
    "ax2.set_xlabel('Number of images tagged', fontsize=10)\n",
    "ax2.set_ylabel('Number of labels, log scale', fontsize=10)"
   ]
  },
  {
   "cell_type": "markdown",
   "metadata": {},
   "source": [
    "This plot is the visual representation of the Counter object printed out above it. Inset is the same plot on a log scale to help illustrate low end of the Y-axis. This is very interesting -- it says that there are 2,220 whales that have just 1 image containing its tag; 1,034 whales have 2 images containing its tag; and so on all the way down to one tag containing 810 associated images! Which one is it? You might have guessed it by now but let's be sure:"
   ]
  },
  {
   "cell_type": "code",
   "execution_count": null,
   "metadata": {
    "collapsed": false
   },
   "outputs": [],
   "source": [
    "print(train_df['Id'].value_counts())"
   ]
  },
  {
   "cell_type": "markdown",
   "metadata": {},
   "source": [
    "As expected, new_whale is the category with the overwhelming majority of tags. So we have a big problem...if we want to train a classifier to identify each of these whales, we'll need a lot more images for each whale! Even 34 is a low number, so we are going to want to augment our data in order to fill this out more.\n",
    "\n",
    "Later, we'll discuss how we'll go about doing the augmentation of this dataset. For now, let's continue our exploration of the training data to see if there are other issues to consider."
   ]
  },
  {
   "cell_type": "markdown",
   "metadata": {
    "collapsed": true
   },
   "source": [
    "## Examining the images themselves\n",
    "\n",
    "Now that we have identified our first issue of needing to augment our image dataset, we should examine the images themselves. If they don't share specific properties like size dimensions, color scheme, etc. then we may run into additional issues. Let's load in some images and see what we find!"
   ]
  },
  {
   "cell_type": "code",
   "execution_count": null,
   "metadata": {
    "collapsed": false
   },
   "outputs": [],
   "source": [
    "import matplotlib.image as mpimg\n",
    "\n",
    "# Let's plot up the first 25 images in the training data set:\n",
    "image_names = np.reshape([str(i) for i in train_df.Image[0:25]], (5,5))\n",
    "image_id = np.reshape([str(j) for j in train_df.Id[0:25]], (5,5))\n",
    "fig, axes = plt.subplots(5,5, figsize=(16,12))\n",
    "for row in range(5):\n",
    "    for col in range(5):\n",
    "        img = mpimg.imread('{}train/{}'.format(PATH, image_names[row, col]))\n",
    "        axes[row, col].imshow(img, cmap='gray')\n",
    "        axes[row,col].set_title(image_id[row,col], fontsize=15)\n",
    "        axes[row, col].xaxis.set_ticklabels([])\n",
    "        axes[row, col].yaxis.set_ticklabels([])"
   ]
  },
  {
   "cell_type": "markdown",
   "metadata": {},
   "source": [
    "So there's a number of things we can see from these first 25 images. First, they aren't all the same size dimensions. This implies we will either have to make a classifier that doesn't care about image size, or we'll have to standardize the dimensions of each image for proper comparison. \n",
    "\n",
    "Second, some of the images are in grayscale, but others are in color. That means our classifier will have to not care much about whether or not the image is in color, or we'll have to standardize all images to grayscale. It's likely a better approach to just test any given image for color, and then add the grayscaled version of it to the dataset as a separate image; this will help us in our augmentation step, since it adds more data to our sample. I'm not sure however if doing this will bias the classifier to misclassify whales in our sample that do not have originally have color if presented with a color version of the same whale. __[Another analysis](https://www.kaggle.com/mmrosenb/whales-an-exploration)__ points out that some of the images are actually in redscale rather than full color (or at least emphasizing the R portion of the image for some reason). This could complicate our coloring analysis further.\n",
    "\n",
    "Lastly, you can see the first image has a label section of sorts in the bottom portion of the image. The words in the label \"HWC # 1034\" doesn't seem to correlate with the whale's label. Having images with these arbitrary labels at the bottom could also further complicate things, though I am uncertain how we would go about removing them, especially since many of these labels (not shown in the figure) are very different."
   ]
  },
  {
   "cell_type": "code",
   "execution_count": null,
   "metadata": {
    "collapsed": true
   },
   "outputs": [],
   "source": []
  }
 ],
 "metadata": {
  "kernelspec": {
   "display_name": "Python 3",
   "language": "python",
   "name": "python3"
  },
  "language_info": {
   "codemirror_mode": {
    "name": "ipython",
    "version": 3
   },
   "file_extension": ".py",
   "mimetype": "text/x-python",
   "name": "python",
   "nbconvert_exporter": "python",
   "pygments_lexer": "ipython3",
   "version": "3.4.5"
  }
 },
 "nbformat": 4,
 "nbformat_minor": 2
}
